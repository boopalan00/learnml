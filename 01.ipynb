{
 "cells": [
  {
   "cell_type": "code",
   "execution_count": null,
   "id": "60b43ae0-a2be-4434-852a-e36cb31feae8",
   "metadata": {},
   "outputs": [],
   "source": []
  },
  {
   "cell_type": "code",
   "execution_count": 1,
   "id": "52895fe4-d4eb-4a22-ad50-c19a7b7a2df2",
   "metadata": {},
   "outputs": [],
   "source": [
    "import numpy as np"
   ]
  },
  {
   "cell_type": "code",
   "execution_count": 3,
   "id": "1023b1f6-34a3-4482-9a08-2dc88466f509",
   "metadata": {},
   "outputs": [],
   "source": [
    "integers = np.array([1,2,3,4,5,6,7,8,9,10])"
   ]
  },
  {
   "cell_type": "code",
   "execution_count": 4,
   "id": "5791d5f0-ce76-4f8d-ad8d-606de788ae01",
   "metadata": {},
   "outputs": [
    {
     "data": {
      "text/plain": [
       "array([ 1,  2,  3,  4,  5,  6,  7,  8,  9, 10])"
      ]
     },
     "execution_count": 4,
     "metadata": {},
     "output_type": "execute_result"
    }
   ],
   "source": [
    "integers"
   ]
  },
  {
   "cell_type": "code",
   "execution_count": 5,
   "id": "c5f36b12-9107-43a1-9daa-d3976f6df5c5",
   "metadata": {},
   "outputs": [
    {
     "data": {
      "text/plain": [
       "1"
      ]
     },
     "execution_count": 5,
     "metadata": {},
     "output_type": "execute_result"
    }
   ],
   "source": [
    "integers[0]"
   ]
  },
  {
   "cell_type": "code",
   "execution_count": 6,
   "id": "d2db9255-5f2e-40e9-94cb-3ac7b9bbed9d",
   "metadata": {},
   "outputs": [
    {
     "data": {
      "text/plain": [
       "5"
      ]
     },
     "execution_count": 6,
     "metadata": {},
     "output_type": "execute_result"
    }
   ],
   "source": [
    "integers[4]"
   ]
  },
  {
   "cell_type": "code",
   "execution_count": 7,
   "id": "c762db6e-32e1-4b49-87db-7b68a610b585",
   "metadata": {},
   "outputs": [],
   "source": [
    "integers[0] = 11"
   ]
  },
  {
   "cell_type": "code",
   "execution_count": 8,
   "id": "c60078ec-f2d6-47bc-a4b3-d0c6aa235b2c",
   "metadata": {},
   "outputs": [],
   "source": [
    "integers[0] = 11.11"
   ]
  },
  {
   "cell_type": "code",
   "execution_count": 9,
   "id": "ff892c5c-e0de-4184-88d1-7b3a536291b1",
   "metadata": {},
   "outputs": [
    {
     "data": {
      "text/plain": [
       "dtype('int32')"
      ]
     },
     "execution_count": 9,
     "metadata": {},
     "output_type": "execute_result"
    }
   ],
   "source": [
    "integers.dtype"
   ]
  },
  {
   "cell_type": "code",
   "execution_count": 11,
   "id": "e39771a4-11f9-4b5b-9c63-6c0cc6aaecd3",
   "metadata": {},
   "outputs": [],
   "source": [
    "small_integers = np.array(integers, dtype=np.int8)"
   ]
  },
  {
   "cell_type": "code",
   "execution_count": 12,
   "id": "1ed4c305-3acf-4dc2-bc97-cacc76976077",
   "metadata": {},
   "outputs": [
    {
     "data": {
      "text/plain": [
       "array([11,  2,  3,  4,  5,  6,  7,  8,  9, 10], dtype=int8)"
      ]
     },
     "execution_count": 12,
     "metadata": {},
     "output_type": "execute_result"
    }
   ],
   "source": [
    "small_integers"
   ]
  },
  {
   "cell_type": "code",
   "execution_count": 13,
   "id": "c371e894-2951-41e8-b769-1ed2f0763fb9",
   "metadata": {},
   "outputs": [
    {
     "data": {
      "text/plain": [
       "40"
      ]
     },
     "execution_count": 13,
     "metadata": {},
     "output_type": "execute_result"
    }
   ],
   "source": [
    "integers.nbytes"
   ]
  },
  {
   "cell_type": "code",
   "execution_count": 14,
   "id": "ec9ff84e-d530-4711-b651-acf9846a5935",
   "metadata": {},
   "outputs": [
    {
     "data": {
      "text/plain": [
       "10"
      ]
     },
     "execution_count": 14,
     "metadata": {},
     "output_type": "execute_result"
    }
   ],
   "source": [
    "small_integers.nbytes"
   ]
  },
  {
   "cell_type": "code",
   "execution_count": 15,
   "id": "33f80292-1e0d-46f8-bcba-bad973b6d888",
   "metadata": {},
   "outputs": [],
   "source": [
    "floats = np.array([1.,2.,3.,4.,5.,6.,7.,8.,9.,])"
   ]
  },
  {
   "cell_type": "code",
   "execution_count": 16,
   "id": "f04b4006-3964-468e-9f91-eff75be9e742",
   "metadata": {},
   "outputs": [
    {
     "data": {
      "text/plain": [
       "array([1., 2., 3., 4., 5., 6., 7., 8., 9.])"
      ]
     },
     "execution_count": 16,
     "metadata": {},
     "output_type": "execute_result"
    }
   ],
   "source": [
    "floats"
   ]
  },
  {
   "cell_type": "code",
   "execution_count": 17,
   "id": "282c5f2f-d802-49c2-8f34-f7bcb0f32e4f",
   "metadata": {},
   "outputs": [
    {
     "data": {
      "text/plain": [
       "dtype('float64')"
      ]
     },
     "execution_count": 17,
     "metadata": {},
     "output_type": "execute_result"
    }
   ],
   "source": [
    "floats.dtype"
   ]
  },
  {
   "cell_type": "markdown",
   "id": "9408c0c3-a885-4748-b175-28f5789356ed",
   "metadata": {},
   "source": [
    "# Multidimentional arrays"
   ]
  },
  {
   "cell_type": "code",
   "execution_count": 18,
   "id": "aa15e506-0705-4650-b978-977d795f83cf",
   "metadata": {},
   "outputs": [],
   "source": [
    "nums = np.array([[1,2,3,4,5],[6,7,8,9,10]])"
   ]
  },
  {
   "cell_type": "code",
   "execution_count": 19,
   "id": "12a5fdde-1fd4-44fe-ba7e-f67aaf6a6f87",
   "metadata": {},
   "outputs": [
    {
     "data": {
      "text/plain": [
       "array([[ 1,  2,  3,  4,  5],\n",
       "       [ 6,  7,  8,  9, 10]])"
      ]
     },
     "execution_count": 19,
     "metadata": {},
     "output_type": "execute_result"
    }
   ],
   "source": [
    "nums"
   ]
  },
  {
   "cell_type": "code",
   "execution_count": 20,
   "id": "1657f172-2114-4e4f-ab3a-6e1e29afe3fe",
   "metadata": {},
   "outputs": [
    {
     "data": {
      "text/plain": [
       "array([1, 2, 3, 4, 5])"
      ]
     },
     "execution_count": 20,
     "metadata": {},
     "output_type": "execute_result"
    }
   ],
   "source": [
    "nums[0]"
   ]
  },
  {
   "cell_type": "code",
   "execution_count": 21,
   "id": "027a7074-f95f-426f-9880-cbe447c6c10d",
   "metadata": {},
   "outputs": [
    {
     "data": {
      "text/plain": [
       "10"
      ]
     },
     "execution_count": 21,
     "metadata": {},
     "output_type": "execute_result"
    }
   ],
   "source": [
    "nums[1][4]"
   ]
  },
  {
   "cell_type": "code",
   "execution_count": 22,
   "id": "b31ae1ad-18a7-4c48-a033-a5e35f6d04d2",
   "metadata": {},
   "outputs": [
    {
     "data": {
      "text/plain": [
       "2"
      ]
     },
     "execution_count": 22,
     "metadata": {},
     "output_type": "execute_result"
    }
   ],
   "source": [
    "nums.ndim"
   ]
  },
  {
   "cell_type": "code",
   "execution_count": 23,
   "id": "a04e397e-8598-4e6f-96c7-93642efa0cc5",
   "metadata": {},
   "outputs": [],
   "source": [
    "multi_dim_arr = np.array([[[1,2,3],[4,5,6],[7,8,9]]])"
   ]
  },
  {
   "cell_type": "code",
   "execution_count": 24,
   "id": "fa5091d7-883d-4835-bb38-6bd2575cb3fa",
   "metadata": {},
   "outputs": [
    {
     "data": {
      "text/plain": [
       "array([[[1, 2, 3],\n",
       "        [4, 5, 6],\n",
       "        [7, 8, 9]]])"
      ]
     },
     "execution_count": 24,
     "metadata": {},
     "output_type": "execute_result"
    }
   ],
   "source": [
    "multi_dim_arr"
   ]
  },
  {
   "cell_type": "code",
   "execution_count": 36,
   "id": "f91d2f43-7f2d-40d5-a99c-bef2c5d92695",
   "metadata": {},
   "outputs": [
    {
     "data": {
      "text/plain": [
       "9"
      ]
     },
     "execution_count": 36,
     "metadata": {},
     "output_type": "execute_result"
    }
   ],
   "source": [
    "multi_dim_arr[0,2,2]"
   ]
  },
  {
   "cell_type": "markdown",
   "id": "23735a94-7b3b-445b-8991-b60c8afad7d0",
   "metadata": {},
   "source": [
    "# creating arrays"
   ]
  },
  {
   "cell_type": "code",
   "execution_count": 37,
   "id": "aaf6be7c-d8a9-4bba-b39d-df51cf0192da",
   "metadata": {},
   "outputs": [],
   "source": [
    "list = [1,2,3,4,5,6,7,8,9,10]"
   ]
  },
  {
   "cell_type": "code",
   "execution_count": 38,
   "id": "ead90143-9634-4804-bbe9-00dd952051b6",
   "metadata": {},
   "outputs": [
    {
     "data": {
      "text/plain": [
       "[1, 2, 3, 4, 5, 6, 7, 8, 9, 10]"
      ]
     },
     "execution_count": 38,
     "metadata": {},
     "output_type": "execute_result"
    }
   ],
   "source": [
    "list"
   ]
  },
  {
   "cell_type": "code",
   "execution_count": 39,
   "id": "f8637b2f-34d6-46f6-b8f5-86d23d2bc421",
   "metadata": {},
   "outputs": [],
   "source": [
    "arr_from_list = np.array(list)"
   ]
  },
  {
   "cell_type": "code",
   "execution_count": 40,
   "id": "e2a51e70-9b2f-4048-a47f-289ce0d1fdf2",
   "metadata": {},
   "outputs": [
    {
     "data": {
      "text/plain": [
       "array([ 1,  2,  3,  4,  5,  6,  7,  8,  9, 10])"
      ]
     },
     "execution_count": 40,
     "metadata": {},
     "output_type": "execute_result"
    }
   ],
   "source": [
    "arr_from_list"
   ]
  },
  {
   "cell_type": "code",
   "execution_count": 41,
   "id": "7c906abb-43ee-4c7b-b9e8-c15f6ea54369",
   "metadata": {},
   "outputs": [],
   "source": [
    "list2 = [1,2,3,-4,5.99032,-99.3,750]"
   ]
  },
  {
   "cell_type": "code",
   "execution_count": 42,
   "id": "9069f7ed-0c0b-441a-b66a-f8c5c85c1654",
   "metadata": {},
   "outputs": [
    {
     "data": {
      "text/plain": [
       "[1, 2, 3, -4, 5.99032, -99.3, 750]"
      ]
     },
     "execution_count": 42,
     "metadata": {},
     "output_type": "execute_result"
    }
   ],
   "source": [
    "list2"
   ]
  },
  {
   "cell_type": "code",
   "execution_count": 45,
   "id": "2049b4af-d98d-427c-85dc-145b99100823",
   "metadata": {},
   "outputs": [],
   "source": [
    "arr_from_list2 = np.array(list2)"
   ]
  },
  {
   "cell_type": "code",
   "execution_count": 46,
   "id": "cf4e1803-9589-4d1b-b3e7-2ff86d303ed5",
   "metadata": {},
   "outputs": [
    {
     "data": {
      "text/plain": [
       "array([  1.     ,   2.     ,   3.     ,  -4.     ,   5.99032, -99.3    ,\n",
       "       750.     ])"
      ]
     },
     "execution_count": 46,
     "metadata": {},
     "output_type": "execute_result"
    }
   ],
   "source": [
    "arr_from_list2"
   ]
  },
  {
   "cell_type": "code",
   "execution_count": 47,
   "id": "a7a846ef-e8d4-458f-85a9-e229a954f937",
   "metadata": {},
   "outputs": [
    {
     "data": {
      "text/plain": [
       "dtype('float64')"
      ]
     },
     "execution_count": 47,
     "metadata": {},
     "output_type": "execute_result"
    }
   ],
   "source": [
    "arr_from_list2.dtype"
   ]
  },
  {
   "cell_type": "code",
   "execution_count": 48,
   "id": "31e7c883-afb2-4ed3-880c-e8557360dc57",
   "metadata": {},
   "outputs": [],
   "source": [
    "list3 = [1,\"one\",2,\"two\",3,\"three\",4,\"four\",5,\"five\"]"
   ]
  },
  {
   "cell_type": "code",
   "execution_count": 49,
   "id": "e62e70d8-c1e1-43de-ae44-b787e3bc234a",
   "metadata": {},
   "outputs": [
    {
     "data": {
      "text/plain": [
       "[1, 'one', 2, 'two', 3, 'three', 4, 'four', 5, 'five']"
      ]
     },
     "execution_count": 49,
     "metadata": {},
     "output_type": "execute_result"
    }
   ],
   "source": [
    "list3"
   ]
  },
  {
   "cell_type": "code",
   "execution_count": 50,
   "id": "9e5591bd-4685-4929-a560-2b0ea871c2bf",
   "metadata": {},
   "outputs": [],
   "source": [
    "arr_from_list3 = np.array(list3)"
   ]
  },
  {
   "cell_type": "code",
   "execution_count": 51,
   "id": "93e50eee-56aa-4716-929b-4ebba1d2639e",
   "metadata": {},
   "outputs": [
    {
     "data": {
      "text/plain": [
       "array(['1', 'one', '2', 'two', '3', 'three', '4', 'four', '5', 'five'],\n",
       "      dtype='<U11')"
      ]
     },
     "execution_count": 51,
     "metadata": {},
     "output_type": "execute_result"
    }
   ],
   "source": [
    "arr_from_list3"
   ]
  },
  {
   "cell_type": "code",
   "execution_count": 52,
   "id": "63658aeb-9e3a-4b8f-a6a2-c3e32bbd4be2",
   "metadata": {},
   "outputs": [],
   "source": [
    "tuple = (11,12,13,14,15,16,17,18,19,20)"
   ]
  },
  {
   "cell_type": "code",
   "execution_count": 53,
   "id": "254e36cd-2932-453e-85f5-297563e18ab7",
   "metadata": {},
   "outputs": [
    {
     "data": {
      "text/plain": [
       "(11, 12, 13, 14, 15, 16, 17, 18, 19, 20)"
      ]
     },
     "execution_count": 53,
     "metadata": {},
     "output_type": "execute_result"
    }
   ],
   "source": [
    "tuple"
   ]
  },
  {
   "cell_type": "code",
   "execution_count": 54,
   "id": "dc895a42-730d-4c6c-b1e5-a8b22ac8e6f7",
   "metadata": {},
   "outputs": [],
   "source": [
    "arr_from_tuple = np.array(tuple)"
   ]
  },
  {
   "cell_type": "code",
   "execution_count": 55,
   "id": "01b0e9d6-c14f-4e27-aea6-63dd3d441bdb",
   "metadata": {},
   "outputs": [
    {
     "data": {
      "text/plain": [
       "array([11, 12, 13, 14, 15, 16, 17, 18, 19, 20])"
      ]
     },
     "execution_count": 55,
     "metadata": {},
     "output_type": "execute_result"
    }
   ],
   "source": [
    "arr_from_tuple"
   ]
  },
  {
   "cell_type": "code",
   "execution_count": 56,
   "id": "a96ea2b4-043d-47fe-bd3b-d4d968e739c2",
   "metadata": {},
   "outputs": [
    {
     "data": {
      "text/plain": [
       "dtype('int32')"
      ]
     },
     "execution_count": 56,
     "metadata": {},
     "output_type": "execute_result"
    }
   ],
   "source": [
    "arr_from_tuple.dtype"
   ]
  },
  {
   "cell_type": "code",
   "execution_count": 65,
   "id": "079990b0-d6ad-4715-abee-0041290bfb5b",
   "metadata": {},
   "outputs": [],
   "source": [
    "multi_dim_list = [ [ [1,2,3],[4,5,6] ],[ [7,8,9],[10,11,12] ] ]"
   ]
  },
  {
   "cell_type": "code",
   "execution_count": 66,
   "id": "3feef612-3ad0-4bec-893a-6dbe185e260f",
   "metadata": {},
   "outputs": [
    {
     "data": {
      "text/plain": [
       "[[[1, 2, 3], [4, 5, 6]], [[7, 8, 9], [10, 11, 12]]]"
      ]
     },
     "execution_count": 66,
     "metadata": {},
     "output_type": "execute_result"
    }
   ],
   "source": [
    "multi_dim_list"
   ]
  },
  {
   "cell_type": "code",
   "execution_count": 67,
   "id": "52c3b7e8-58b8-4a39-bdfc-a05a96b758a8",
   "metadata": {},
   "outputs": [],
   "source": [
    "arr_from_multi_dim = np.array(multi_dim_list)"
   ]
  },
  {
   "cell_type": "code",
   "execution_count": 68,
   "id": "6f09a179-cf63-4868-8fb2-66ef350fa6bb",
   "metadata": {},
   "outputs": [
    {
     "data": {
      "text/plain": [
       "array([[[ 1,  2,  3],\n",
       "        [ 4,  5,  6]],\n",
       "\n",
       "       [[ 7,  8,  9],\n",
       "        [10, 11, 12]]])"
      ]
     },
     "execution_count": 68,
     "metadata": {},
     "output_type": "execute_result"
    }
   ],
   "source": [
    "arr_from_multi_dim"
   ]
  },
  {
   "cell_type": "markdown",
   "id": "79803745-b45a-43fe-9069-60b16ca9f611",
   "metadata": {},
   "source": []
  }
 ],
 "metadata": {
  "kernelspec": {
   "display_name": "Python 3 (ipykernel)",
   "language": "python",
   "name": "python3"
  },
  "language_info": {
   "codemirror_mode": {
    "name": "ipython",
    "version": 3
   },
   "file_extension": ".py",
   "mimetype": "text/x-python",
   "name": "python",
   "nbconvert_exporter": "python",
   "pygments_lexer": "ipython3",
   "version": "3.11.5"
  }
 },
 "nbformat": 4,
 "nbformat_minor": 5
}
