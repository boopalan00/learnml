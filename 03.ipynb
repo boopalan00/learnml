{
 "cells": [
  {
   "cell_type": "markdown",
   "id": "ee11dc6f-519f-433a-a31e-a9753acd9b00",
   "metadata": {},
   "source": [
    "# adding , removing and sorting elements"
   ]
  },
  {
   "cell_type": "code",
   "execution_count": 1,
   "id": "675cbefc-3a01-4f72-8c34-19e743ecfa79",
   "metadata": {},
   "outputs": [],
   "source": [
    "import numpy as np"
   ]
  },
  {
   "cell_type": "code",
   "execution_count": 2,
   "id": "a3aa9fcc-10a6-4794-b193-0117c22846bd",
   "metadata": {},
   "outputs": [],
   "source": [
    "array_0 = np.array([1,2,3,4,5,6,7,8,9,10])"
   ]
  },
  {
   "cell_type": "code",
   "execution_count": 3,
   "id": "a70a1ef4-40ff-43ab-8221-8b46998edd9d",
   "metadata": {},
   "outputs": [
    {
     "data": {
      "text/plain": [
       "array([ 1,  2,  3,  4,  5,  6,  7,  8,  9, 10])"
      ]
     },
     "execution_count": 3,
     "metadata": {},
     "output_type": "execute_result"
    }
   ],
   "source": [
    "array_0"
   ]
  },
  {
   "cell_type": "code",
   "execution_count": 9,
   "id": "94e32aa4-3858-4c80-a41b-d4944619a4d4",
   "metadata": {},
   "outputs": [],
   "source": [
    "new_array_0 = np.insert(array_0,3,4)"
   ]
  },
  {
   "cell_type": "code",
   "execution_count": 10,
   "id": "accb4aa7-0a42-4658-abb7-aac0883fa1e6",
   "metadata": {},
   "outputs": [
    {
     "data": {
      "text/plain": [
       "array([ 1,  2,  3,  4,  4,  5,  6,  7,  8,  9, 10])"
      ]
     },
     "execution_count": 10,
     "metadata": {},
     "output_type": "execute_result"
    }
   ],
   "source": [
    "new_array_0"
   ]
  },
  {
   "cell_type": "code",
   "execution_count": 13,
   "id": "542b2bdb-6bdb-4fba-abd6-72c49f94d8e2",
   "metadata": {},
   "outputs": [],
   "source": [
    "array_1 = np.array([1,2,3,4,5])"
   ]
  },
  {
   "cell_type": "code",
   "execution_count": 14,
   "id": "a09eaf3a-b683-4229-89f7-d8c2282eb3a8",
   "metadata": {},
   "outputs": [
    {
     "data": {
      "text/plain": [
       "array([1, 2, 3, 4, 5])"
      ]
     },
     "execution_count": 14,
     "metadata": {},
     "output_type": "execute_result"
    }
   ],
   "source": [
    "array_1"
   ]
  },
  {
   "cell_type": "code",
   "execution_count": 15,
   "id": "09c3c967-b2f8-4545-9772-f94b0f02833c",
   "metadata": {},
   "outputs": [],
   "source": [
    "new_array_1 = np.append(array_1,10)"
   ]
  },
  {
   "cell_type": "code",
   "execution_count": 16,
   "id": "f6555d6c-1f02-4454-9080-daa6087ffccc",
   "metadata": {},
   "outputs": [
    {
     "data": {
      "text/plain": [
       "array([ 1,  2,  3,  4,  5, 10])"
      ]
     },
     "execution_count": 16,
     "metadata": {},
     "output_type": "execute_result"
    }
   ],
   "source": [
    "new_array_1"
   ]
  },
  {
   "cell_type": "code",
   "execution_count": 17,
   "id": "4ac25fdd-f57b-4f8d-86ea-77c2a69a06d6",
   "metadata": {},
   "outputs": [],
   "source": [
    "new_array_3 = np.array([1,2,3,4,5])"
   ]
  },
  {
   "cell_type": "code",
   "execution_count": 18,
   "id": "b9c88f3b-e02c-4cd3-b401-3a59fcc6e4b6",
   "metadata": {},
   "outputs": [
    {
     "data": {
      "text/plain": [
       "array([1, 2, 3, 4, 5])"
      ]
     },
     "execution_count": 18,
     "metadata": {},
     "output_type": "execute_result"
    }
   ],
   "source": [
    "new_array_3"
   ]
  },
  {
   "cell_type": "code",
   "execution_count": 19,
   "id": "941888f4-4875-4f51-a920-6e02b99ba27d",
   "metadata": {},
   "outputs": [],
   "source": [
    "del_arr = np.delete(array_1,4)"
   ]
  },
  {
   "cell_type": "code",
   "execution_count": 20,
   "id": "2bb735ae-dab8-4ece-b4b4-c453e583c75d",
   "metadata": {},
   "outputs": [
    {
     "data": {
      "text/plain": [
       "array([1, 2, 3, 4])"
      ]
     },
     "execution_count": 20,
     "metadata": {},
     "output_type": "execute_result"
    }
   ],
   "source": [
    "del_arr"
   ]
  },
  {
   "cell_type": "code",
   "execution_count": 21,
   "id": "99927710-8e11-464f-bcc3-506e98fd048a",
   "metadata": {},
   "outputs": [],
   "source": [
    "new_array_4 = np.random.randint(0,20,20)"
   ]
  },
  {
   "cell_type": "code",
   "execution_count": 22,
   "id": "830d2659-4b39-4199-8de9-4b45e2cf7f7f",
   "metadata": {},
   "outputs": [
    {
     "data": {
      "text/plain": [
       "array([ 1,  0,  2,  6,  2,  7,  3,  1, 17,  7, 14,  6, 19,  8, 10,  5, 16,\n",
       "       18,  7, 10])"
      ]
     },
     "execution_count": 22,
     "metadata": {},
     "output_type": "execute_result"
    }
   ],
   "source": [
    "new_array_4"
   ]
  },
  {
   "cell_type": "code",
   "execution_count": 24,
   "id": "5b3fa329-1963-4a84-8d10-73b91faa9fac",
   "metadata": {},
   "outputs": [],
   "source": [
    "new_array_5 = np.sort(new_array_4)"
   ]
  },
  {
   "cell_type": "code",
   "execution_count": 25,
   "id": "a70d4335-ad59-4eb5-bc4d-39c6bc9043a4",
   "metadata": {},
   "outputs": [
    {
     "data": {
      "text/plain": [
       "array([ 0,  1,  1,  2,  2,  3,  5,  6,  6,  7,  7,  7,  8, 10, 10, 14, 16,\n",
       "       17, 18, 19])"
      ]
     },
     "execution_count": 25,
     "metadata": {},
     "output_type": "execute_result"
    }
   ],
   "source": [
    "new_array_5"
   ]
  },
  {
   "cell_type": "code",
   "execution_count": 27,
   "id": "5b6cbf5b-e5ca-4c75-a093-4679e5aa549e",
   "metadata": {},
   "outputs": [],
   "source": [
    "array_2 = np.array([[6,2,9,4,0,1],[2,6,3,9,0,4]])"
   ]
  },
  {
   "cell_type": "code",
   "execution_count": 28,
   "id": "c3112b42-795f-4794-a72a-d130c4275c26",
   "metadata": {},
   "outputs": [
    {
     "data": {
      "text/plain": [
       "array([[6, 2, 9, 4, 0, 1],\n",
       "       [2, 6, 3, 9, 0, 4]])"
      ]
     },
     "execution_count": 28,
     "metadata": {},
     "output_type": "execute_result"
    }
   ],
   "source": [
    "array_2"
   ]
  },
  {
   "cell_type": "code",
   "execution_count": 29,
   "id": "46b5ef99-65b7-474c-bf2e-6ada25491184",
   "metadata": {},
   "outputs": [],
   "source": [
    "new_array_6 = np.sort(array_2)"
   ]
  },
  {
   "cell_type": "code",
   "execution_count": 30,
   "id": "f596ca97-f229-4457-ba62-02479e9ed5fd",
   "metadata": {},
   "outputs": [
    {
     "data": {
      "text/plain": [
       "array([[0, 1, 2, 4, 6, 9],\n",
       "       [0, 2, 3, 4, 6, 9]])"
      ]
     },
     "execution_count": 30,
     "metadata": {},
     "output_type": "execute_result"
    }
   ],
   "source": [
    "new_array_6"
   ]
  },
  {
   "cell_type": "code",
   "execution_count": 31,
   "id": "4813a76e-e7ea-4941-90c3-4b442b0c56ea",
   "metadata": {},
   "outputs": [],
   "source": [
    "array_3 = [\"black\",\"green\",\"blue\",\"orange\",\"pink\"]"
   ]
  },
  {
   "cell_type": "code",
   "execution_count": 32,
   "id": "fe29b774-e0e4-41ab-91a8-dea105b8d7a4",
   "metadata": {},
   "outputs": [],
   "source": [
    "array_4 = np.array_3)"
   ]
  },
  {
   "cell_type": "code",
   "execution_count": null,
   "id": "c50a590b-00b4-4aa1-96f6-0f6683bf89be",
   "metadata": {},
   "outputs": [],
   "source": [
    "new"
   ]
  }
 ],
 "metadata": {
  "kernelspec": {
   "display_name": "Python 3 (ipykernel)",
   "language": "python",
   "name": "python3"
  },
  "language_info": {
   "codemirror_mode": {
    "name": "ipython",
    "version": 3
   },
   "file_extension": ".py",
   "mimetype": "text/x-python",
   "name": "python",
   "nbconvert_exporter": "python",
   "pygments_lexer": "ipython3",
   "version": "3.11.5"
  }
 },
 "nbformat": 4,
 "nbformat_minor": 5
}
