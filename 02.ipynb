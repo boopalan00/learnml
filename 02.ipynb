{
 "cells": [
  {
   "cell_type": "markdown",
   "id": "31bfecc7-45ec-4e8d-818c-7f23971fcfb3",
   "metadata": {},
   "source": [
    "# array creation"
   ]
  },
  {
   "cell_type": "code",
   "execution_count": 1,
   "id": "ff8c946d-af1b-429e-815f-d4f779750e0b",
   "metadata": {},
   "outputs": [],
   "source": [
    "import numpy as np"
   ]
  },
  {
   "cell_type": "code",
   "execution_count": 2,
   "id": "39ee6421-9ea1-4f06-a7cc-4b1e85ce32dc",
   "metadata": {},
   "outputs": [],
   "source": [
    "integers_array = np.arange(10)"
   ]
  },
  {
   "cell_type": "code",
   "execution_count": 3,
   "id": "a2090ba3-2346-49e0-b829-c1ac809541c4",
   "metadata": {},
   "outputs": [
    {
     "data": {
      "text/plain": [
       "array([0, 1, 2, 3, 4, 5, 6, 7, 8, 9])"
      ]
     },
     "execution_count": 3,
     "metadata": {},
     "output_type": "execute_result"
    }
   ],
   "source": [
    "integers_array"
   ]
  },
  {
   "cell_type": "code",
   "execution_count": 4,
   "id": "05d827a1-7781-4b8b-b2bb-3e6d357a947a",
   "metadata": {},
   "outputs": [],
   "source": [
    "integers_array1 = np.arange(100,130)"
   ]
  },
  {
   "cell_type": "code",
   "execution_count": 5,
   "id": "05abb9ad-bd6e-466b-bfd1-08703575da2a",
   "metadata": {},
   "outputs": [
    {
     "data": {
      "text/plain": [
       "array([100, 101, 102, 103, 104, 105, 106, 107, 108, 109, 110, 111, 112,\n",
       "       113, 114, 115, 116, 117, 118, 119, 120, 121, 122, 123, 124, 125,\n",
       "       126, 127, 128, 129])"
      ]
     },
     "execution_count": 5,
     "metadata": {},
     "output_type": "execute_result"
    }
   ],
   "source": [
    "integers_array1"
   ]
  },
  {
   "cell_type": "code",
   "execution_count": 7,
   "id": "8cfd5b4c-0b0d-43ac-982f-b5441656f04a",
   "metadata": {},
   "outputs": [],
   "source": [
    "integers_array2 = np.arange(1,50,2)"
   ]
  },
  {
   "cell_type": "code",
   "execution_count": 8,
   "id": "ed915587-8c04-479d-a484-8f7623c3aca3",
   "metadata": {},
   "outputs": [
    {
     "data": {
      "text/plain": [
       "array([ 1,  3,  5,  7,  9, 11, 13, 15, 17, 19, 21, 23, 25, 27, 29, 31, 33,\n",
       "       35, 37, 39, 41, 43, 45, 47, 49])"
      ]
     },
     "execution_count": 8,
     "metadata": {},
     "output_type": "execute_result"
    }
   ],
   "source": [
    "integers_array2"
   ]
  },
  {
   "cell_type": "code",
   "execution_count": 9,
   "id": "f518a62a-d8b5-4052-a492-f881fbd497fb",
   "metadata": {},
   "outputs": [],
   "source": [
    "float_arr_0 = np.linspace(10,20)"
   ]
  },
  {
   "cell_type": "code",
   "execution_count": 10,
   "id": "8484c151-40ff-48a8-871a-e59d670c8b0b",
   "metadata": {},
   "outputs": [
    {
     "data": {
      "text/plain": [
       "array([10.        , 10.20408163, 10.40816327, 10.6122449 , 10.81632653,\n",
       "       11.02040816, 11.2244898 , 11.42857143, 11.63265306, 11.83673469,\n",
       "       12.04081633, 12.24489796, 12.44897959, 12.65306122, 12.85714286,\n",
       "       13.06122449, 13.26530612, 13.46938776, 13.67346939, 13.87755102,\n",
       "       14.08163265, 14.28571429, 14.48979592, 14.69387755, 14.89795918,\n",
       "       15.10204082, 15.30612245, 15.51020408, 15.71428571, 15.91836735,\n",
       "       16.12244898, 16.32653061, 16.53061224, 16.73469388, 16.93877551,\n",
       "       17.14285714, 17.34693878, 17.55102041, 17.75510204, 17.95918367,\n",
       "       18.16326531, 18.36734694, 18.57142857, 18.7755102 , 18.97959184,\n",
       "       19.18367347, 19.3877551 , 19.59183673, 19.79591837, 20.        ])"
      ]
     },
     "execution_count": 10,
     "metadata": {},
     "output_type": "execute_result"
    }
   ],
   "source": [
    "float_arr_0"
   ]
  },
  {
   "cell_type": "code",
   "execution_count": 11,
   "id": "896e2678-2ff6-4e31-bdc2-54e16a7fdd4d",
   "metadata": {},
   "outputs": [],
   "source": [
    "float_arr_1 = np.linspace(10,30,5)"
   ]
  },
  {
   "cell_type": "code",
   "execution_count": 12,
   "id": "912de032-26c2-4e4a-94a4-09786e43f09c",
   "metadata": {},
   "outputs": [
    {
     "data": {
      "text/plain": [
       "array([10., 15., 20., 25., 30.])"
      ]
     },
     "execution_count": 12,
     "metadata": {},
     "output_type": "execute_result"
    }
   ],
   "source": [
    "float_arr_1"
   ]
  },
  {
   "cell_type": "code",
   "execution_count": 13,
   "id": "e25fd443-5ea5-4269-83a8-280f07949dca",
   "metadata": {},
   "outputs": [],
   "source": [
    "random_0 = np.random.rand(10)"
   ]
  },
  {
   "cell_type": "code",
   "execution_count": 14,
   "id": "f0f99b2a-6fbf-4a04-9a44-f4c6e4150e6f",
   "metadata": {},
   "outputs": [
    {
     "data": {
      "text/plain": [
       "array([0.4287963 , 0.39910394, 0.39980613, 0.01621452, 0.36464842,\n",
       "       0.84392213, 0.32244984, 0.59860422, 0.74534687, 0.205233  ])"
      ]
     },
     "execution_count": 14,
     "metadata": {},
     "output_type": "execute_result"
    }
   ],
   "source": [
    "random_0"
   ]
  },
  {
   "cell_type": "code",
   "execution_count": 16,
   "id": "8f0ed956-b1fa-46a7-ac2d-8adeaf3fc323",
   "metadata": {},
   "outputs": [],
   "source": [
    "random_1 = np.random.rand(3,3)"
   ]
  },
  {
   "cell_type": "code",
   "execution_count": 17,
   "id": "21e072ae-5b71-43e7-bd73-72cf4af8279f",
   "metadata": {},
   "outputs": [
    {
     "data": {
      "text/plain": [
       "array([[0.95742622, 0.63071573, 0.52715994],\n",
       "       [0.81324914, 0.94292015, 0.24323309],\n",
       "       [0.46781418, 0.63494355, 0.35935271]])"
      ]
     },
     "execution_count": 17,
     "metadata": {},
     "output_type": "execute_result"
    }
   ],
   "source": [
    "random_1"
   ]
  },
  {
   "cell_type": "code",
   "execution_count": 20,
   "id": "4dd4099e-9218-497b-aff8-a7183634d0bc",
   "metadata": {},
   "outputs": [],
   "source": [
    "random_2 = np.random.randint(0,100,40)"
   ]
  },
  {
   "cell_type": "code",
   "execution_count": 21,
   "id": "7fbddd7a-3d60-4e84-a7b9-48e6ba45f338",
   "metadata": {},
   "outputs": [
    {
     "data": {
      "text/plain": [
       "array([32, 22, 43, 82, 61, 11, 93, 26, 48, 32, 58, 47, 15, 17, 62, 66, 99,\n",
       "       35, 51, 48, 81, 39, 68, 33, 73, 93, 96, 35, 12, 25, 70, 86, 81, 37,\n",
       "       30, 69, 36, 34, 89, 72])"
      ]
     },
     "execution_count": 21,
     "metadata": {},
     "output_type": "execute_result"
    }
   ],
   "source": [
    "random_2"
   ]
  },
  {
   "cell_type": "code",
   "execution_count": 22,
   "id": "24623af3-9bbf-4055-bce7-643e05debf09",
   "metadata": {},
   "outputs": [],
   "source": [
    "zero_arr = np.zeros(5)"
   ]
  },
  {
   "cell_type": "code",
   "execution_count": 23,
   "id": "e0a0c5e7-98d2-48eb-8e0e-a632cca6a89f",
   "metadata": {},
   "outputs": [
    {
     "data": {
      "text/plain": [
       "array([0., 0., 0., 0., 0.])"
      ]
     },
     "execution_count": 23,
     "metadata": {},
     "output_type": "execute_result"
    }
   ],
   "source": [
    "zero_arr"
   ]
  },
  {
   "cell_type": "markdown",
   "id": "13c43a47-ec4f-4027-8b87-38b136f4ad42",
   "metadata": {},
   "source": [
    "# 4 is row\n",
    "# 2 is column"
   ]
  },
  {
   "cell_type": "code",
   "execution_count": 28,
   "id": "f0daadc2-9a7e-45e3-8a70-349ba95ba085",
   "metadata": {},
   "outputs": [],
   "source": [
    "zero_arr_1 = np.zeros((4,2))\n"
   ]
  },
  {
   "cell_type": "code",
   "execution_count": 29,
   "id": "126dd2cf-a394-430a-8872-1a4c15270818",
   "metadata": {},
   "outputs": [
    {
     "data": {
      "text/plain": [
       "array([[0., 0.],\n",
       "       [0., 0.],\n",
       "       [0., 0.],\n",
       "       [0., 0.]])"
      ]
     },
     "execution_count": 29,
     "metadata": {},
     "output_type": "execute_result"
    }
   ],
   "source": [
    "zero_arr_1"
   ]
  },
  {
   "cell_type": "code",
   "execution_count": 30,
   "id": "93e8a942-0017-4eb3-a459-9a24fc6b7ffa",
   "metadata": {},
   "outputs": [],
   "source": [
    "ones_0 = np.ones(9)"
   ]
  },
  {
   "cell_type": "code",
   "execution_count": 31,
   "id": "939c55d4-3fc5-48f8-a782-32f5f8780028",
   "metadata": {},
   "outputs": [
    {
     "data": {
      "text/plain": [
       "array([1., 1., 1., 1., 1., 1., 1., 1., 1.])"
      ]
     },
     "execution_count": 31,
     "metadata": {},
     "output_type": "execute_result"
    }
   ],
   "source": [
    "ones_0"
   ]
  },
  {
   "cell_type": "code",
   "execution_count": 32,
   "id": "b8126d87-7f72-45f3-bce7-f02aced43759",
   "metadata": {},
   "outputs": [],
   "source": [
    "ones_1 = np.ones((4,6))"
   ]
  },
  {
   "cell_type": "code",
   "execution_count": 33,
   "id": "f8615f54-75dc-472e-8058-66338c581d02",
   "metadata": {},
   "outputs": [
    {
     "data": {
      "text/plain": [
       "array([[1., 1., 1., 1., 1., 1.],\n",
       "       [1., 1., 1., 1., 1., 1.],\n",
       "       [1., 1., 1., 1., 1., 1.],\n",
       "       [1., 1., 1., 1., 1., 1.]])"
      ]
     },
     "execution_count": 33,
     "metadata": {},
     "output_type": "execute_result"
    }
   ],
   "source": [
    "ones_1"
   ]
  },
  {
   "cell_type": "code",
   "execution_count": 34,
   "id": "fb2b6f48-b2cd-4dda-8dea-e2d9ef23eb45",
   "metadata": {},
   "outputs": [],
   "source": [
    "ones_3 = np.ones((3,5),dtype=int)"
   ]
  },
  {
   "cell_type": "code",
   "execution_count": 35,
   "id": "f52bda94-d33f-4e29-a19f-3c0824eb97aa",
   "metadata": {},
   "outputs": [
    {
     "data": {
      "text/plain": [
       "array([[1, 1, 1, 1, 1],\n",
       "       [1, 1, 1, 1, 1],\n",
       "       [1, 1, 1, 1, 1]])"
      ]
     },
     "execution_count": 35,
     "metadata": {},
     "output_type": "execute_result"
    }
   ],
   "source": [
    "ones_3"
   ]
  },
  {
   "cell_type": "code",
   "execution_count": 36,
   "id": "6654ee71-d60e-4b16-825a-4e343e09bee4",
   "metadata": {},
   "outputs": [],
   "source": [
    "fill_arr_0 = np.empty(10,dtype=int)"
   ]
  },
  {
   "cell_type": "code",
   "execution_count": 37,
   "id": "683ffd2d-1faf-4e76-8481-9988e8bb3c8a",
   "metadata": {},
   "outputs": [
    {
     "data": {
      "text/plain": [
       "array([0, 0, 0, 0, 0, 0, 0, 0, 0, 0])"
      ]
     },
     "execution_count": 37,
     "metadata": {},
     "output_type": "execute_result"
    }
   ],
   "source": [
    "fill_arr_0"
   ]
  },
  {
   "cell_type": "code",
   "execution_count": 38,
   "id": "b748064d-928c-4b13-a6f8-6dc47ed01e91",
   "metadata": {},
   "outputs": [],
   "source": [
    "fill_arr_0.fill(11)"
   ]
  },
  {
   "cell_type": "code",
   "execution_count": 39,
   "id": "9d9d78d8-1cf0-419d-b4a9-c02e0ccdfc19",
   "metadata": {},
   "outputs": [
    {
     "data": {
      "text/plain": [
       "array([11, 11, 11, 11, 11, 11, 11, 11, 11, 11])"
      ]
     },
     "execution_count": 39,
     "metadata": {},
     "output_type": "execute_result"
    }
   ],
   "source": [
    "fill_arr_0"
   ]
  },
  {
   "cell_type": "code",
   "execution_count": 41,
   "id": "7cc5a2d4-e03d-4d0b-9165-70977f5f2d17",
   "metadata": {},
   "outputs": [],
   "source": [
    "full_0 = np.full(10,5)"
   ]
  },
  {
   "cell_type": "code",
   "execution_count": 42,
   "id": "fc8dd9b4-4389-40e0-8c3d-53e9273f303e",
   "metadata": {},
   "outputs": [
    {
     "data": {
      "text/plain": [
       "array([5, 5, 5, 5, 5, 5, 5, 5, 5, 5])"
      ]
     },
     "execution_count": 42,
     "metadata": {},
     "output_type": "execute_result"
    }
   ],
   "source": [
    "full_0"
   ]
  },
  {
   "cell_type": "code",
   "execution_count": 43,
   "id": "a433a0c9-af5f-4a78-b719-93c92672b26a",
   "metadata": {},
   "outputs": [],
   "source": [
    "full_1 = np.full((3,4),8)"
   ]
  },
  {
   "cell_type": "code",
   "execution_count": 44,
   "id": "88e4e027-dac3-43db-8e7f-659e56e6e19e",
   "metadata": {},
   "outputs": [
    {
     "data": {
      "text/plain": [
       "array([[8, 8, 8, 8],\n",
       "       [8, 8, 8, 8],\n",
       "       [8, 8, 8, 8]])"
      ]
     },
     "execution_count": 44,
     "metadata": {},
     "output_type": "execute_result"
    }
   ],
   "source": [
    "full_1"
   ]
  },
  {
   "cell_type": "code",
   "execution_count": 45,
   "id": "f71b2694-f90a-4793-bc14-d8a77aa11d5a",
   "metadata": {},
   "outputs": [],
   "source": [
    "arr_0 = np.arange(20)"
   ]
  },
  {
   "cell_type": "code",
   "execution_count": 46,
   "id": "ed4b5eee-9875-48db-a65c-d6c9522ff4bb",
   "metadata": {},
   "outputs": [
    {
     "data": {
      "text/plain": [
       "array([ 0,  1,  2,  3,  4,  5,  6,  7,  8,  9, 10, 11, 12, 13, 14, 15, 16,\n",
       "       17, 18, 19])"
      ]
     },
     "execution_count": 46,
     "metadata": {},
     "output_type": "execute_result"
    }
   ],
   "source": [
    "arr_0"
   ]
  },
  {
   "cell_type": "code",
   "execution_count": 49,
   "id": "d5177d6c-64c5-4eec-82a2-a02b8a39cdde",
   "metadata": {},
   "outputs": [],
   "source": [
    "arr_1 = np.linspace((1,2),(10,20),10)"
   ]
  },
  {
   "cell_type": "code",
   "execution_count": 50,
   "id": "73831ac0-c06d-411d-b5e8-3abcfc32a0a5",
   "metadata": {},
   "outputs": [
    {
     "data": {
      "text/plain": [
       "array([[ 1.,  2.],\n",
       "       [ 2.,  4.],\n",
       "       [ 3.,  6.],\n",
       "       [ 4.,  8.],\n",
       "       [ 5., 10.],\n",
       "       [ 6., 12.],\n",
       "       [ 7., 14.],\n",
       "       [ 8., 16.],\n",
       "       [ 9., 18.],\n",
       "       [10., 20.]])"
      ]
     },
     "execution_count": 50,
     "metadata": {},
     "output_type": "execute_result"
    }
   ],
   "source": [
    "arr_1"
   ]
  },
  {
   "cell_type": "code",
   "execution_count": 51,
   "id": "8de9767a-d8fa-45c5-a2bf-4fb7ad918160",
   "metadata": {},
   "outputs": [],
   "source": [
    "arr_2 = np.full((2,2,2),10)"
   ]
  },
  {
   "cell_type": "code",
   "execution_count": 52,
   "id": "74e7aaa9-f51b-44b2-93e7-fbe05c191390",
   "metadata": {},
   "outputs": [
    {
     "data": {
      "text/plain": [
       "array([[[10, 10],\n",
       "        [10, 10]],\n",
       "\n",
       "       [[10, 10],\n",
       "        [10, 10]]])"
      ]
     },
     "execution_count": 52,
     "metadata": {},
     "output_type": "execute_result"
    }
   ],
   "source": [
    "arr_2"
   ]
  },
  {
   "cell_type": "code",
   "execution_count": 53,
   "id": "d7a21729-b33d-476f-b34c-d94decd47438",
   "metadata": {},
   "outputs": [
    {
     "data": {
      "text/plain": [
       "(20,)"
      ]
     },
     "execution_count": 53,
     "metadata": {},
     "output_type": "execute_result"
    }
   ],
   "source": [
    "np.shape(arr_0)"
   ]
  },
  {
   "cell_type": "code",
   "execution_count": 54,
   "id": "8e6871fd-d177-4b28-8afe-73740de11f48",
   "metadata": {},
   "outputs": [
    {
     "data": {
      "text/plain": [
       "(10, 2)"
      ]
     },
     "execution_count": 54,
     "metadata": {},
     "output_type": "execute_result"
    }
   ],
   "source": [
    "np.shape(arr_1)"
   ]
  },
  {
   "cell_type": "code",
   "execution_count": 55,
   "id": "fbaf0b36-74f2-44a2-ae6b-f1b14e5a8b1e",
   "metadata": {},
   "outputs": [
    {
     "data": {
      "text/plain": [
       "(2, 2, 2)"
      ]
     },
     "execution_count": 55,
     "metadata": {},
     "output_type": "execute_result"
    }
   ],
   "source": [
    "np.shape(arr_2)"
   ]
  },
  {
   "cell_type": "code",
   "execution_count": 56,
   "id": "330489e8-50e7-41b6-be33-55f5095ddaa3",
   "metadata": {},
   "outputs": [
    {
     "data": {
      "text/plain": [
       "20"
      ]
     },
     "execution_count": 56,
     "metadata": {},
     "output_type": "execute_result"
    }
   ],
   "source": [
    "np.size(arr_0)"
   ]
  },
  {
   "cell_type": "code",
   "execution_count": 57,
   "id": "df4a31ef-1293-44c0-9ec9-5e462608de77",
   "metadata": {},
   "outputs": [
    {
     "data": {
      "text/plain": [
       "20"
      ]
     },
     "execution_count": 57,
     "metadata": {},
     "output_type": "execute_result"
    }
   ],
   "source": [
    "np.size(arr_1)"
   ]
  },
  {
   "cell_type": "code",
   "execution_count": 58,
   "id": "55910267-2c18-4e0c-bc97-4484b79edff1",
   "metadata": {},
   "outputs": [
    {
     "data": {
      "text/plain": [
       "8"
      ]
     },
     "execution_count": 58,
     "metadata": {},
     "output_type": "execute_result"
    }
   ],
   "source": [
    "np.size(arr_2)"
   ]
  },
  {
   "cell_type": "code",
   "execution_count": null,
   "id": "c8948597-7b83-43d9-bd18-3121ba0f36f7",
   "metadata": {},
   "outputs": [],
   "source": []
  }
 ],
 "metadata": {
  "kernelspec": {
   "display_name": "Python 3 (ipykernel)",
   "language": "python",
   "name": "python3"
  },
  "language_info": {
   "codemirror_mode": {
    "name": "ipython",
    "version": 3
   },
   "file_extension": ".py",
   "mimetype": "text/x-python",
   "name": "python",
   "nbconvert_exporter": "python",
   "pygments_lexer": "ipython3",
   "version": "3.11.5"
  }
 },
 "nbformat": 4,
 "nbformat_minor": 5
}
